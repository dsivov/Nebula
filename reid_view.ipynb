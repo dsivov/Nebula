{
  "cells": [
    {
      "cell_type": "markdown",
      "metadata": {
        "id": "view-in-github",
        "colab_type": "text"
      },
      "source": [
        "<a href=\"https://colab.research.google.com/github/dsivov/Nebula/blob/master/reid_view.ipynb\" target=\"_parent\"><img src=\"https://colab.research.google.com/assets/colab-badge.svg\" alt=\"Open In Colab\"/></a>"
      ]
    },
    {
      "cell_type": "code",
      "execution_count": null,
      "metadata": {
        "id": "XsOHjExcHAwJ"
      },
      "outputs": [],
      "source": [
        "%pip install --index-url http://74.82.29.209:8090 nebula3_database==0.2.2 --trusted-host 74.82.29.209"
      ]
    },
    {
      "cell_type": "code",
      "execution_count": null,
      "metadata": {
        "id": "I8RafYz-6-zS"
      },
      "outputs": [],
      "source": [
        "%pip install ipywidgets \n",
        "# To enable `ipywidgets`\n",
        "!jupyter nbextension enable --py widgetsnbextension"
      ]
    },
    {
      "cell_type": "code",
      "execution_count": null,
      "metadata": {
        "id": "rjmT0R6qHQ1F"
      },
      "outputs": [],
      "source": [
        "from database.arangodb import DatabaseConnector \n",
        "from ipywidgets import widgets\n",
        "from IPython.display import display\n",
        "from IPython.display import Image\n"
      ]
    },
    {
      "cell_type": "code",
      "execution_count": null,
      "metadata": {
        "id": "NVuAMQT5Hdv7"
      },
      "outputs": [],
      "source": [
        "reid_data = []\n",
        "table_data = []\n",
        "gdb = DatabaseConnector()\n",
        "db = gdb.connect_db('prodemo')\n",
        "query = 'FOR doc IN s4_re_id RETURN doc'\n",
        "cursor = db.aql.execute(query)\n",
        "for reid in cursor:\n",
        "  reid_data.append(reid)\n",
        "  table_data.append(reid['movie_id'])\n"
      ]
    },
    {
      "cell_type": "code",
      "execution_count": null,
      "metadata": {
        "id": "oHuCt4Yrp7HR"
      },
      "outputs": [],
      "source": [
        "dropdown_movies = widgets.Dropdown(options = table_data, description = \"Movie\")\n",
        "display(dropdown_movies)"
      ]
    },
    {
      "cell_type": "code",
      "execution_count": null,
      "metadata": {
        "id": "uGKFxhxzqCF4"
      },
      "outputs": [],
      "source": [
        "idx = dropdown_movies.index\n",
        "\n",
        "selectd_reid = reid_data[idx]\n",
        "\n",
        "print(\"===================================================\")\n",
        "print(\"Reid Frames for movie: \", selectd_reid['movie_id'])\n",
        "print(\"===================================================\")\n",
        "print()\n",
        "for reid_frames in selectd_reid['urls']:\n",
        "  if len(reid_frames) > 0:\n",
        "    #for frame in reid_frames:\n",
        "    print()\n",
        "    print(reid_frames['url'])\n",
        "    img_to_show = Image(reid_frames['url'])\n",
        "    if img_to_show.data is None:\n",
        "      print(\"No images uploaded to WebServer\")\n",
        "    else:\n",
        "      display(img_to_show)\n",
        "      #print(reid_frames['frame_number'])\n"
      ]
    }
  ],
  "metadata": {
    "colab": {
      "toc_visible": true,
      "provenance": [],
      "authorship_tag": "ABX9TyPEJTUNSBR4J4uNXNq4Xp2n",
      "include_colab_link": true
    },
    "kernelspec": {
      "display_name": "Python 3",
      "name": "python3"
    },
    "language_info": {
      "name": "python"
    }
  },
  "nbformat": 4,
  "nbformat_minor": 0
}